{
 "cells": [
  {
   "cell_type": "markdown",
   "metadata": {
    "application/vnd.databricks.v1+cell": {
     "cellMetadata": {},
     "inputWidgets": {},
     "nuid": "a0069183-15a0-425c-84f9-1e38e4e7b641",
     "showTitle": false,
     "tableResultSettingsMap": {},
     "title": ""
    }
   },
   "source": [
    "\n",
    "# UC Toolkit: Tool Functions"
   ]
  },
  {
   "cell_type": "code",
   "execution_count": 0,
   "metadata": {
    "application/vnd.databricks.v1+cell": {
     "cellMetadata": {
      "byteLimit": 2048000,
      "rowLimit": 10000
     },
     "inputWidgets": {},
     "nuid": "e040b3d2-948b-407f-9ce4-242a1c54593f",
     "showTitle": false,
     "tableResultSettingsMap": {},
     "title": ""
    }
   },
   "outputs": [],
   "source": [
    "from databricks.sdk import WorkspaceClient\n",
    "\n",
    "ws = WorkspaceClient()\n",
    "current_user = ws.current_user.me().user_name\n",
    "first_name, last_name = current_user.split('@')[0].split('.')\n",
    "formatted_name = f\"{first_name[0]}_{last_name}\"\n",
    "\n",
    "catalog = f'dbdemos_{formatted_name}'\n",
    "schema = 'chem_manufacturing'\n",
    "print(f\"Catalog name: {catalog}\")"
   ]
  },
  {
   "cell_type": "code",
   "execution_count": 0,
   "metadata": {
    "application/vnd.databricks.v1+cell": {
     "cellMetadata": {
      "byteLimit": 2048000,
      "rowLimit": 10000
     },
     "inputWidgets": {},
     "nuid": "46c36265-c217-47af-bd04-650039944666",
     "showTitle": false,
     "tableResultSettingsMap": {},
     "title": ""
    }
   },
   "outputs": [],
   "source": [
    "spark.sql(f\"USE CATALOG {catalog}\")\n",
    "spark.sql(f\"USE SCHEMA {schema}\")"
   ]
  },
  {
   "cell_type": "markdown",
   "metadata": {
    "application/vnd.databricks.v1+cell": {
     "cellMetadata": {},
     "inputWidgets": {},
     "nuid": "51573daf-9ec2-4139-b526-e1ddcf74da95",
     "showTitle": false,
     "tableResultSettingsMap": {},
     "title": ""
    }
   },
   "source": [
    "\n",
    "## Vector Store Search Functions\n",
    "\n",
    "To do similarity search the Databricks Vector Index can be used with SQL Function VECTOR_SEARCH() for convinence. "
   ]
  },
  {
   "cell_type": "markdown",
   "metadata": {
    "application/vnd.databricks.v1+cell": {
     "cellMetadata": {},
     "inputWidgets": {},
     "nuid": "ea8d79c8-fe08-41e0-957f-ea44021f16d9",
     "showTitle": false,
     "tableResultSettingsMap": {},
     "title": ""
    }
   },
   "source": [
    "\n",
    "### Find Similar Products"
   ]
  },
  {
   "cell_type": "code",
   "execution_count": 0,
   "metadata": {
    "application/vnd.databricks.v1+cell": {
     "cellMetadata": {
      "byteLimit": 2048000,
      "implicitDf": true,
      "rowLimit": 10000
     },
     "inputWidgets": {},
     "nuid": "b7708258-b252-4460-a0bc-4b72493f52b3",
     "showTitle": false,
     "tableResultSettingsMap": {},
     "title": ""
    }
   },
   "outputs": [],
   "source": [
    "%sql\n",
    "-- Function to find similar products using vector search\n",
    "CREATE OR REPLACE FUNCTION find_similar_products(product_description STRING)\n",
    "RETURNS TABLE (product_id STRING, full_description STRING, product_name STRING, category STRING, molecular_weight DOUBLE, density DOUBLE, melting_point DOUBLE, boiling_point DOUBLE, chemical_formula STRING, search_score DOUBLE, price_per_unit DOUBLE)\n",
    "LANGUAGE SQL\n",
    "COMMENT 'Find products with similarity search based on description of product name, application areas, storage_conditions. This helps customers find products and alternatives. This query will return details like product_id, full_description, product_name, category, molecular_weight, density, melting_point, boiling_point, chemical_formula, search_score , price_per_unit'\n",
    "RETURN\n",
    "  SELECT product_id, full_description, product_name, category, molecular_weight, density, melting_point, boiling_point, chemical_formula, search_score , price_per_unit\n",
    "  FROM VECTOR_SEARCH(\n",
    "    index => 'dbdemos_a_jack.chem_manufacturing.products_index',\n",
    "    query => product_description,\n",
    "    num_results => 2\n",
    "  )\n",
    "  ORDER BY search_score DESC \n"
   ]
  },
  {
   "cell_type": "code",
   "execution_count": 0,
   "metadata": {
    "application/vnd.databricks.v1+cell": {
     "cellMetadata": {
      "byteLimit": 2048000,
      "implicitDf": true,
      "rowLimit": 10000
     },
     "inputWidgets": {},
     "nuid": "98cc914c-8ae4-415d-8e51-5a743e5af07a",
     "showTitle": false,
     "tableResultSettingsMap": {},
     "title": ""
    }
   },
   "outputs": [],
   "source": [
    "%sql\n",
    "-- let's test our function:\n",
    "SELECT * FROM find_similar_products('A product that has a name similar to \"Synth\" and is for the food industry');"
   ]
  },
  {
   "cell_type": "markdown",
   "metadata": {
    "application/vnd.databricks.v1+cell": {
     "cellMetadata": {},
     "inputWidgets": {},
     "nuid": "b096ec1a-2c2d-4651-b408-6fc64208558a",
     "showTitle": false,
     "tableResultSettingsMap": {},
     "title": ""
    }
   },
   "source": [
    "\n",
    "### Find safety protocolls and research notes "
   ]
  },
  {
   "cell_type": "code",
   "execution_count": 0,
   "metadata": {
    "application/vnd.databricks.v1+cell": {
     "cellMetadata": {
      "byteLimit": 2048000,
      "implicitDf": true,
      "rowLimit": 10000
     },
     "inputWidgets": {},
     "nuid": "fce813ea-4dc4-4450-a7be-38b995452d56",
     "showTitle": false,
     "tableResultSettingsMap": {},
     "title": ""
    }
   },
   "outputs": [],
   "source": [
    "%sql\n",
    "-- Function to find safety protocols by description\n",
    "CREATE OR REPLACE FUNCTION find_safety_protocols(search_text STRING)\n",
    "RETURNS TABLE (description_id STRING, description_type STRING, product_id STRING, title STRING, content STRING, search_score DOUBLE)\n",
    "LANGUAGE SQL\n",
    "COMMENT 'Find safety, procedures, research protocools with similarity search for chemicals matching the description. Returns relevant safety information for handling chemicals description_id, description_type, product_id, title, content, search_score.'\n",
    "RETURN\n",
    "  SELECT description_id, description_type, product_id, title, content, search_score\n",
    "  FROM VECTOR_SEARCH(\n",
    "    index => 'dbdemos_a_jack.chem_manufacturing.descriptions_index',\n",
    "    query => search_text,\n",
    "    num_results => 2\n",
    "  )\n",
    "  ORDER BY search_score DESC "
   ]
  },
  {
   "cell_type": "code",
   "execution_count": 0,
   "metadata": {
    "application/vnd.databricks.v1+cell": {
     "cellMetadata": {
      "byteLimit": 2048000,
      "implicitDf": true,
      "rowLimit": 10000
     },
     "inputWidgets": {},
     "nuid": "b37ac943-7bd5-45c4-9f18-62164f90091a",
     "showTitle": false,
     "tableResultSettingsMap": {},
     "title": ""
    }
   },
   "outputs": [],
   "source": [
    "%sql\n",
    "-- let's test our function:\n",
    "SELECT * FROM find_safety_protocols('Find protocools about impurity reduction');"
   ]
  },
  {
   "cell_type": "markdown",
   "metadata": {
    "application/vnd.databricks.v1+cell": {
     "cellMetadata": {},
     "inputWidgets": {},
     "nuid": "5e07116a-7055-4848-8601-e52a46148bdb",
     "showTitle": false,
     "tableResultSettingsMap": {},
     "title": ""
    }
   },
   "source": [
    "\n",
    "## SQL Functions"
   ]
  },
  {
   "cell_type": "code",
   "execution_count": 0,
   "metadata": {
    "application/vnd.databricks.v1+cell": {
     "cellMetadata": {
      "byteLimit": 2048000,
      "implicitDf": true,
      "rowLimit": 10000
     },
     "inputWidgets": {},
     "nuid": "0f308655-d798-4b80-83f5-27d81a6aa274",
     "showTitle": false,
     "tableResultSettingsMap": {},
     "title": ""
    }
   },
   "outputs": [],
   "source": [
    "%sql\n",
    "-- Function to get detailed reaction information\n",
    "CREATE OR REPLACE FUNCTION get_product(productid STRING)\n",
    "RETURNS TABLE (product_id string, product_name string, category string,\n",
    "chemical_formula string, molecular_weight double, density double, melting_point double, boiling_point double,description string, application_areas string, storage_conditions string, full_description string, creation_date string, price_per_unit double\n",
    ")\n",
    "LANGUAGE SQL\n",
    "COMMENT 'Retrieve detailed information about a product with product id. Returns product_id, product_name, category, chemical_formula, molecular_weight, density, melting_point, boiling_point, description, application_areas, storage_conditions, full_description, creation_date, price_per_unit'\n",
    "RETURN\n",
    "  SELECT *\n",
    "  FROM dbdemos_a_jack.chem_manufacturing.products\n",
    "  WHERE product_id = productid;"
   ]
  },
  {
   "cell_type": "code",
   "execution_count": 0,
   "metadata": {
    "application/vnd.databricks.v1+cell": {
     "cellMetadata": {
      "byteLimit": 2048000,
      "implicitDf": true,
      "rowLimit": 10000
     },
     "inputWidgets": {},
     "nuid": "6783338c-6aa4-44d7-9475-a485a0abb2bb",
     "showTitle": false,
     "tableResultSettingsMap": {},
     "title": ""
    }
   },
   "outputs": [],
   "source": [
    "%sql\n",
    "SELECT * FROM get_product('P0001')"
   ]
  },
  {
   "cell_type": "code",
   "execution_count": 0,
   "metadata": {
    "application/vnd.databricks.v1+cell": {
     "cellMetadata": {
      "byteLimit": 2048000,
      "implicitDf": true,
      "rowLimit": 10000
     },
     "inputWidgets": {},
     "nuid": "5b77cd89-a927-43fd-908b-b98286407dd6",
     "showTitle": false,
     "tableResultSettingsMap": {},
     "title": ""
    }
   },
   "outputs": [],
   "source": [
    "%sql\n",
    "-- Function to get detailed reaction information\n",
    "CREATE OR REPLACE FUNCTION get_safety_protocols(productid STRING)\n",
    "RETURNS TABLE (description_id STRING, description_type STRING, product_id STRING, title STRING, content STRING)\n",
    "LANGUAGE SQL\n",
    "COMMENT 'Get safety, procedures, research protocools with product id for chemicals matching the description. Returns relevant safety information for handling chemicals description_id, description_type, product_id, title, content'\n",
    "RETURN\n",
    "  SELECT description_id, description_type, product_id, title, content\n",
    "  FROM dbdemos_a_jack.chem_manufacturing.descriptions\n",
    "  WHERE product_id = productid;"
   ]
  },
  {
   "cell_type": "code",
   "execution_count": 0,
   "metadata": {
    "application/vnd.databricks.v1+cell": {
     "cellMetadata": {
      "byteLimit": 2048000,
      "implicitDf": true,
      "rowLimit": 10000
     },
     "inputWidgets": {},
     "nuid": "993acae6-5b7b-4427-9378-381744b7b169",
     "showTitle": false,
     "tableResultSettingsMap": {},
     "title": ""
    }
   },
   "outputs": [],
   "source": [
    "%sql\n",
    "SELECT * FROM get_safety_protocols('P0001')"
   ]
  },
  {
   "cell_type": "code",
   "execution_count": 0,
   "metadata": {
    "application/vnd.databricks.v1+cell": {
     "cellMetadata": {
      "byteLimit": 2048000,
      "implicitDf": true,
      "rowLimit": 10000
     },
     "inputWidgets": {},
     "nuid": "2a1846d4-3a46-4254-ae90-d4a67a050efb",
     "showTitle": false,
     "tableResultSettingsMap": {},
     "title": ""
    }
   },
   "outputs": [],
   "source": [
    "%sql\n",
    "-- Function to get detailed reaction information\n",
    "CREATE OR REPLACE FUNCTION get_reaction_details(productid STRING)\n",
    "RETURNS TABLE (reaction_id STRING, reaction_name STRING, reaction_type STRING, catalyst STRING, solvent STRING, temperature DOUBLE, pressure DOUBLE, reaction_time DOUBLE, energy_consumption DOUBLE, hazards STRING)\n",
    "LANGUAGE SQL\n",
    "COMMENT 'Retrieve detailed information with product id about chemical reactions used to produce a specific product. Returns reaction conditions, reaction type, catalyst name, solvent, temperature, pressure, reaction time, energy consumption, hazards.'\n",
    "RETURN\n",
    "  SELECT reaction_id, reaction_name, reaction_type, catalyst, solvent, temperature, pressure, reaction_time, energy_consumption, hazards\n",
    "  FROM dbdemos_a_jack.chem_manufacturing.reactions\n",
    "  WHERE product_id = productid;"
   ]
  },
  {
   "cell_type": "code",
   "execution_count": 0,
   "metadata": {
    "application/vnd.databricks.v1+cell": {
     "cellMetadata": {
      "byteLimit": 2048000,
      "implicitDf": true,
      "rowLimit": 10000
     },
     "inputWidgets": {},
     "nuid": "86ac85d8-9621-49c0-b3e7-4413b3ba82ec",
     "showTitle": false,
     "tableResultSettingsMap": {},
     "title": ""
    }
   },
   "outputs": [],
   "source": [
    "%sql\n",
    "SELECT * FROM get_reaction_details('P0001')"
   ]
  },
  {
   "cell_type": "code",
   "execution_count": 0,
   "metadata": {
    "application/vnd.databricks.v1+cell": {
     "cellMetadata": {
      "byteLimit": 2048000,
      "implicitDf": true,
      "rowLimit": 10000
     },
     "inputWidgets": {},
     "nuid": "8a1519b9-9d5a-4d81-b657-7512e2e9dd68",
     "showTitle": false,
     "tableResultSettingsMap": {},
     "title": ""
    }
   },
   "outputs": [],
   "source": [
    "%sql\n",
    "-- Function to analyze product quality metrics\n",
    "CREATE OR REPLACE FUNCTION analyze_product_quality(productid STRING)\n",
    "RETURNS TABLE (product_name STRING, total_tests INT, passed_tests INT, failed_tests INT, pass_rate DOUBLE)\n",
    "LANGUAGE SQL\n",
    "COMMENT 'Analyze quality metrics for a specific product. Shows test results, pass rates, and common quality issues.'\n",
    "RETURN\n",
    "  SELECT \n",
    "    p.product_name,\n",
    "    COUNT(q.test_id) as total_tests,\n",
    "    SUM(CASE WHEN q.test_result = 'Pass' THEN 1 ELSE 0 END) as passed_tests,\n",
    "    SUM(CASE WHEN q.test_result = 'Fail' THEN 1 ELSE 0 END) as failed_tests,\n",
    "    ROUND(SUM(CASE WHEN q.test_result = 'Pass' THEN 1 ELSE 0 END) * 100.0 / COUNT(q.test_id), 2) as pass_rate\n",
    "  FROM dbdemos_a_jack.chem_manufacturing.quality_control q\n",
    "  JOIN dbdemos_a_jack.chem_manufacturing.batches b ON q.batch_id = b.batch_id\n",
    "  JOIN dbdemos_a_jack.chem_manufacturing.products p ON b.product_id = p.product_id\n",
    "  WHERE b.product_id = productid\n",
    "  GROUP BY p.product_name;"
   ]
  },
  {
   "cell_type": "code",
   "execution_count": 0,
   "metadata": {
    "application/vnd.databricks.v1+cell": {
     "cellMetadata": {
      "byteLimit": 2048000,
      "implicitDf": true,
      "rowLimit": 10000
     },
     "inputWidgets": {},
     "nuid": "22a0a9cd-04c4-4cc9-9c81-910c14343e7f",
     "showTitle": false,
     "tableResultSettingsMap": {},
     "title": ""
    }
   },
   "outputs": [],
   "source": [
    "%sql\n",
    "SELECT * FROM analyze_product_quality('P0002')"
   ]
  },
  {
   "cell_type": "markdown",
   "metadata": {
    "application/vnd.databricks.v1+cell": {
     "cellMetadata": {},
     "inputWidgets": {},
     "nuid": "c45251a4-0e66-4541-b44d-151fb0fdb017",
     "showTitle": false,
     "tableResultSettingsMap": {},
     "title": ""
    }
   },
   "source": [
    "\n",
    "## Python Functions"
   ]
  },
  {
   "cell_type": "markdown",
   "metadata": {
    "application/vnd.databricks.v1+cell": {
     "cellMetadata": {},
     "inputWidgets": {},
     "nuid": "359475f4-9828-494d-a221-b989793ce4cf",
     "showTitle": false,
     "tableResultSettingsMap": {},
     "title": ""
    }
   },
   "source": [
    "\n",
    "\n",
    "###Unit convertion tool: Supporting common unit conversion\n",
    "Add a function to allow chemical unit conversions.\n",
    "\n",
    "Databricks runs the python in a safe container. However, we'll filter what the function can do to avoid any potential issues with prompt injection (so that the user cannot execute other python instructions)."
   ]
  },
  {
   "cell_type": "code",
   "execution_count": 0,
   "metadata": {
    "application/vnd.databricks.v1+cell": {
     "cellMetadata": {
      "byteLimit": 2048000,
      "implicitDf": true,
      "rowLimit": 10000
     },
     "inputWidgets": {},
     "nuid": "d09bbc0c-57c4-4e78-a5c4-e0b0818eedc7",
     "showTitle": false,
     "tableResultSettingsMap": {},
     "title": ""
    }
   },
   "outputs": [],
   "source": [
    "%sql\n",
    "CREATE OR REPLACE FUNCTION convert_chemical_unit(value DOUBLE, from_unit STRING, to_unit STRING, mol_weight DOUBLE)\n",
    "RETURNS DOUBLE\n",
    "LANGUAGE PYTHON\n",
    "COMMENT 'Convert between different chemical measurement units (g, kg, mol, L, mL) to units (kg, g, mL, L, mol) usage: convert_chemical_unit(1, \"kg\", \"g\", 0) if mol is not provided use 0'\n",
    "AS\n",
    "$$\n",
    "  unit_conversions = {\n",
    "    'g_to_kg': lambda x: x / 1000,\n",
    "    'kg_to_g': lambda x: x * 1000,\n",
    "    'L_to_mL': lambda x: x * 1000,\n",
    "    'mL_to_L': lambda x: x / 1000,\n",
    "    'g_to_mol': lambda x, mw: x / mw if mw else None,\n",
    "    'mol_to_g': lambda x, mw: x * mw if mw else None\n",
    "  }\n",
    "  \n",
    "  conversion_key = f\"{from_unit.lower()}_to_{to_unit.lower()}\"\n",
    "  \n",
    "  if conversion_key in unit_conversions:\n",
    "    if conversion_key in ['g_to_mol', 'mol_to_g']:\n",
    "      if mol_weight is None:\n",
    "        return f\"Molecular weight required for {conversion_key} conversion\"\n",
    "      return unit_conversions[conversion_key](value, mol_weight)\n",
    "    else:\n",
    "      return unit_conversions[conversion_key](value)\n",
    "  else:\n",
    "    return f\"Conversion from {from_unit} to {to_unit} not supported\"\n",
    "$$;"
   ]
  },
  {
   "cell_type": "code",
   "execution_count": 0,
   "metadata": {
    "application/vnd.databricks.v1+cell": {
     "cellMetadata": {
      "byteLimit": 2048000,
      "implicitDf": true,
      "rowLimit": 10000
     },
     "inputWidgets": {},
     "nuid": "bb078c90-9889-44e6-94b9-dcf03f1cd8ba",
     "showTitle": false,
     "tableResultSettingsMap": {},
     "title": ""
    }
   },
   "outputs": [],
   "source": [
    "%sql\n",
    "SELECT convert_chemical_unit(1, \"g\", \"mol\", 0.58);"
   ]
  },
  {
   "cell_type": "markdown",
   "metadata": {
    "application/vnd.databricks.v1+cell": {
     "cellMetadata": {},
     "inputWidgets": {},
     "nuid": "4ccdb2a4-73b9-4c8f-8718-54d696c858cb",
     "showTitle": false,
     "tableResultSettingsMap": {},
     "title": ""
    }
   },
   "source": [
    "### Calculator tool: Supporting math operations \n",
    "Let's add a function to allow our LLM to execute any Math operation. \n",
    "\n",
    "Databricks runs the python in a safe container. However, we'll filter what the function can do to avoid any potential issues with prompt injection (so that the user cannot execute other python instructions)."
   ]
  },
  {
   "cell_type": "code",
   "execution_count": 0,
   "metadata": {
    "application/vnd.databricks.v1+cell": {
     "cellMetadata": {
      "byteLimit": 2048000,
      "implicitDf": true,
      "rowLimit": 10000
     },
     "inputWidgets": {},
     "nuid": "4dc6e833-3203-4a6f-9e2c-e4910358b7dc",
     "showTitle": false,
     "tableResultSettingsMap": {},
     "title": ""
    }
   },
   "outputs": [],
   "source": [
    "%sql\n",
    "CREATE OR REPLACE FUNCTION compute_math(expr STRING)\n",
    "RETURNS STRING\n",
    "LANGUAGE PYTHON\n",
    "COMMENT 'Run any mathematical function and returns the result as output. Supports python syntax like math.sqrt(13)'\n",
    "AS\n",
    "$$\n",
    "  import ast\n",
    "  import operator\n",
    "  import math\n",
    "  operators = {ast.Add: operator.add, ast.Sub: operator.sub, ast.Mult: operator.mul, ast.Div: operator.truediv, ast.Pow: operator.pow, ast.Mod: operator.mod, ast.FloorDiv: operator.floordiv, ast.UAdd: operator.pos, ast.USub: operator.neg}\n",
    "    \n",
    "  # Supported functions from the math module\n",
    "  functions = {name: getattr(math, name) for name in dir(math) if callable(getattr(math, name))}\n",
    "\n",
    "  def eval_node(node):\n",
    "    if isinstance(node, ast.Num):  # <number>\n",
    "      return node.n\n",
    "    elif isinstance(node, ast.BinOp):  # <left> <operator> <right>\n",
    "      return operators[type(node.op)](eval_node(node.left), eval_node(node.right))\n",
    "    elif isinstance(node, ast.UnaryOp):  # <operator> <operand> e.g., -1\n",
    "      return operators[type(node.op)](eval_node(node.operand))\n",
    "    elif isinstance(node, ast.Call):  # <func>(<args>)\n",
    "      func = node.func.id\n",
    "      if func in functions:\n",
    "        args = [eval_node(arg) for arg in node.args]\n",
    "        return functions[func](*args)\n",
    "      else:\n",
    "        raise TypeError(f\"Unsupported function: {func}\")\n",
    "    else:\n",
    "      raise TypeError(f\"Unsupported type: {type(node)}\")  \n",
    "  try:\n",
    "    if expr.startswith('```') and expr.endswith('```'):\n",
    "      expr = expr[3:-3].strip()      \n",
    "    node = ast.parse(expr, mode='eval').body\n",
    "    return eval_node(node)\n",
    "  except Exception as ex:\n",
    "    return str(ex)\n",
    "$$;\n",
    "-- let's test our function:\n",
    "SELECT compute_math(\"(2+2)/3\") as result;"
   ]
  },
  {
   "cell_type": "markdown",
   "metadata": {
    "application/vnd.databricks.v1+cell": {
     "cellMetadata": {},
     "inputWidgets": {},
     "nuid": "c6726bda-1c0a-452a-95d7-70b66810756b",
     "showTitle": false,
     "tableResultSettingsMap": {},
     "title": ""
    }
   },
   "source": [
    "### Executing a Python function to fetch external dataset in realtime: getting the weather\n",
    "\n",
    "We want our stylist assistant to give us recommendations based on the weather. Let's add a tool to fetch the weather based on longitude/latitude, using Python to call an external Weather API.\n",
    "\n",
    "**Note: This will be run by a serverless compute, and accessing external data, therefore requires serverless network egress access. If this fails in a serverless setup/playground, make sure you are allowing it in your networking configuration (open the workspace network option at admin account level)**"
   ]
  },
  {
   "cell_type": "code",
   "execution_count": 0,
   "metadata": {
    "application/vnd.databricks.v1+cell": {
     "cellMetadata": {
      "byteLimit": 2048000,
      "implicitDf": true,
      "rowLimit": 10000
     },
     "inputWidgets": {},
     "nuid": "a58b1e77-9812-45a5-80e7-f405156f2365",
     "showTitle": false,
     "tableResultSettingsMap": {},
     "title": ""
    }
   },
   "outputs": [],
   "source": [
    "%sql\n",
    "CREATE OR REPLACE FUNCTION get_weather(latitude DOUBLE, longitude DOUBLE)\n",
    "RETURNS STRUCT<temperature_in_celsius DOUBLE, rain_in_mm DOUBLE>\n",
    "LANGUAGE PYTHON\n",
    "COMMENT 'This function retrieves the current temperature and rain information for a given latitude and longitude using the Open-Meteo API.'\n",
    "AS\n",
    "$$\n",
    "  try:\n",
    "    import requests as r\n",
    "    #Note: this is provided for education only, non commercial - please get a license for real usage: https://api.open-meteo.com. Let s comment it to avoid issues for now\n",
    "    #weather = r.get(f'https://api.open-meteo.com/v1/forecast?latitude={latitude}&longitude={longitude}&current=temperature_2m,rain&forecast_days=1').json()\n",
    "    return {\n",
    "      \"temperature_in_celsius\": weather[\"current\"][\"temperature_2m\"],\n",
    "      \"rain_in_mm\": weather[\"current\"][\"rain\"]\n",
    "    }\n",
    "  except:\n",
    "    return {\"temperature_in_celsius\": 22.0, \"rain_in_mm\": 0.0}\n",
    "$$;\n",
    "\n",
    "-- let's test our function:\n",
    "SELECT get_weather(52.52, 13.41) as weather;"
   ]
  },
  {
   "cell_type": "markdown",
   "metadata": {
    "application/vnd.databricks.v1+cell": {
     "cellMetadata": {},
     "inputWidgets": {},
     "nuid": "44a3ca49-1dd4-4206-b3c7-ddce159cf519",
     "showTitle": false,
     "tableResultSettingsMap": {},
     "title": ""
    }
   },
   "source": [
    "### Run any python function\n",
    "\n",
    "If we are creating a coding assistant, it can be useful to allow our AI System to run python code to try them and output the results to the user. **Be careful doing that, as any code could be executed by the user.**\n",
    "\n",
    "Here is an example:"
   ]
  },
  {
   "cell_type": "code",
   "execution_count": 0,
   "metadata": {
    "application/vnd.databricks.v1+cell": {
     "cellMetadata": {
      "byteLimit": 2048000,
      "implicitDf": true,
      "rowLimit": 10000
     },
     "inputWidgets": {},
     "nuid": "9bc41fcf-57b0-40f6-8ab5-72567a873944",
     "showTitle": false,
     "tableResultSettingsMap": {},
     "title": ""
    }
   },
   "outputs": [],
   "source": [
    "%sql\n",
    "CREATE OR REPLACE FUNCTION execute_python_code(python_code STRING)\n",
    "RETURNS STRING\n",
    "LANGUAGE PYTHON\n",
    "COMMENT \"Run python code. The code should end with a return statement and this function will return it as a string. Only send valid python to this function. Here is an exampe of python code input: 'def square_function(number):\\\\n  return number*number\\\\n\\\\nreturn square_function(3)'\"\n",
    "AS\n",
    "$$\n",
    "    import traceback\n",
    "    try:\n",
    "        import re\n",
    "        # Remove code block markers (e.g., ```python) and strip whitespace```\n",
    "        python_code = re.sub(r\"^\\s*```(?:python)?|```\\s*$\", \"\", python_code).strip()\n",
    "        # Unescape any escaped newline characters\n",
    "        python_code = python_code.replace(\"\\\\n\", \"\\n\")\n",
    "        # Properly indent the code for wrapping\n",
    "        indented_code = \"\\n    \".join(python_code.split(\"\\n\"))\n",
    "        # Define a wrapper function to execute the code\n",
    "        exec_globals = {}\n",
    "        exec_locals = {}\n",
    "        wrapper_code = \"def _temp_function():\\n    \"+indented_code\n",
    "        exec(wrapper_code, exec_globals, exec_locals)\n",
    "        # Execute the wrapped function and return its output\n",
    "        result = exec_locals[\"_temp_function\"]()\n",
    "        return result\n",
    "    except Exception as ex:\n",
    "        return traceback.format_exc()\n",
    "$$;\n",
    "-- let's test our function:\n",
    "\n",
    "SELECT execute_python_code(\"return 'Hello! '* 3\") as result;"
   ]
  },
  {
   "cell_type": "markdown",
   "metadata": {
    "application/vnd.databricks.v1+cell": {
     "cellMetadata": {},
     "inputWidgets": {},
     "nuid": "23ca97a5-fa8d-476a-93fa-5182a1c455c2",
     "showTitle": false,
     "tableResultSettingsMap": {},
     "title": ""
    }
   },
   "source": [
    "## LLM-Based Functions\n",
    "\n",
    "With ai_query we can apply LLM prompts on each row of a table. This can be very practical for tasks that would otherwise require tedious 1:n comparisons. "
   ]
  },
  {
   "cell_type": "code",
   "execution_count": 0,
   "metadata": {
    "application/vnd.databricks.v1+cell": {
     "cellMetadata": {
      "byteLimit": 2048000,
      "implicitDf": true,
      "rowLimit": 10000
     },
     "inputWidgets": {},
     "nuid": "1b2b4fa7-e288-46d0-b21e-6fd40276a6fc",
     "showTitle": false,
     "tableResultSettingsMap": {},
     "title": ""
    }
   },
   "outputs": [],
   "source": [
    "%sql\n",
    "-- Function to recommend product alternatives\n",
    "CREATE OR REPLACE FUNCTION recommend_product_alternatives(product_name STRING, reason STRING)\n",
    "RETURNS STRING\n",
    "LANGUAGE SQL\n",
    "COMMENT 'Recommends alternative products based on the specified reason (cost, availability, performance, safety)'\n",
    "RETURN SELECT ai_query('databricks-meta-llama-3-70b-instruct',\n",
    "    CONCAT(\n",
    "      \"You are a chemical product specialist. A customer is looking for alternatives to product \", \n",
    "      product_name, \" for the following reason: \", reason, \n",
    "      \"Compare the product with the input product briefly on the mentioned criterias\"\n",
    "    ) || product_id \n",
    "  ) AS alternative_option\n",
    "  FROM dbdemos_a_jack.chem_manufacturing.products;"
   ]
  },
  {
   "cell_type": "code",
   "execution_count": 0,
   "metadata": {
    "application/vnd.databricks.v1+cell": {
     "cellMetadata": {
      "byteLimit": 2048000,
      "rowLimit": 10000
     },
     "inputWidgets": {},
     "nuid": "9ba7aca9-c2e9-40c8-a686-3360a8f55302",
     "showTitle": false,
     "tableResultSettingsMap": {},
     "title": ""
    }
   },
   "outputs": [],
   "source": [
    "SELECT * FROM recommend_product_alternatives(\"ProCat-Z91\", \"to expensive\")"
   ]
  }
 ],
 "metadata": {
  "application/vnd.databricks.v1+notebook": {
   "computePreferences": null,
   "dashboards": [],
   "environmentMetadata": {
    "base_environment": "",
    "environment_version": "2"
   },
   "inputWidgetPreferences": null,
   "language": "python",
   "notebookMetadata": {
    "mostRecentlyExecutedCommandWithImplicitDF": {
     "commandId": 893528768404327,
     "dataframes": [
      "_sqldf"
     ]
    },
    "pythonIndentUnit": 2
   },
   "notebookName": "02-tool-functions",
   "widgets": {}
  },
  "language_info": {
   "name": "python"
  }
 },
 "nbformat": 4,
 "nbformat_minor": 0
}
